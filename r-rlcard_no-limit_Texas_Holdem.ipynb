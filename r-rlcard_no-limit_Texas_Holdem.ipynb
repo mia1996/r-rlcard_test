{
 "cells": [
  {
   "cell_type": "markdown",
   "metadata": {},
   "source": [
    "___\n",
    "\n",
    "\n",
    "# Example for no-limit Texas Holdem in R\n",
    "\n",
    "Let's train our Texas Holdem in R!"
   ]
  },
  {
   "cell_type": "markdown",
   "metadata": {},
   "source": [
    "## > Install packages\n",
    "We need to install packages Install package `reticulate` first by `install.packages(\"reticulate\")`. The reticulate can be used for virtual envirnment creation and python packages connection. "
   ]
  },
  {
   "cell_type": "code",
   "execution_count": 1,
   "metadata": {},
   "outputs": [
    {
     "name": "stderr",
     "output_type": "stream",
     "text": [
      "Installing package into ‘/usr/local/lib/R/4.0/site-library’\n",
      "(as ‘lib’ is unspecified)\n",
      "\n"
     ]
    }
   ],
   "source": [
    "install.packages(\"reticulate\")\n",
    "library(reticulate)"
   ]
  },
  {
   "cell_type": "markdown",
   "metadata": {},
   "source": [
    "Then we need to install pakcage `imager` for  plotting."
   ]
  },
  {
   "cell_type": "code",
   "execution_count": 2,
   "metadata": {},
   "outputs": [
    {
     "name": "stderr",
     "output_type": "stream",
     "text": [
      "Installing package into ‘/usr/local/lib/R/4.0/site-library’\n",
      "(as ‘lib’ is unspecified)\n",
      "\n",
      "Loading required package: magrittr\n",
      "\n",
      "\n",
      "Attaching package: ‘imager’\n",
      "\n",
      "\n",
      "The following object is masked from ‘package:magrittr’:\n",
      "\n",
      "    add\n",
      "\n",
      "\n",
      "The following objects are masked from ‘package:stats’:\n",
      "\n",
      "    convolve, spectrum\n",
      "\n",
      "\n",
      "The following object is masked from ‘package:graphics’:\n",
      "\n",
      "    frame\n",
      "\n",
      "\n",
      "The following object is masked from ‘package:base’:\n",
      "\n",
      "    save.image\n",
      "\n",
      "\n"
     ]
    }
   ],
   "source": [
    "install.packages(\"imager\")\n",
    "library(imager)"
   ]
  },
  {
   "cell_type": "markdown",
   "metadata": {},
   "source": [
    "## > Virtual Environment\n",
    "Now use `virtualenv_create('r-rlcard') ` to create a virtual environment called \"r-rlcard\"\n"
   ]
  },
  {
   "cell_type": "code",
   "execution_count": 3,
   "metadata": {},
   "outputs": [
    {
     "name": "stdout",
     "output_type": "stream",
     "text": [
      "virtualenv: r-rlcard\n"
     ]
    }
   ],
   "source": [
    "virtualenv_create('r-rlcard')"
   ]
  },
  {
   "cell_type": "markdown",
   "metadata": {},
   "source": [
    " Let's check if the virtual environment existes and use it for our training."
   ]
  },
  {
   "cell_type": "code",
   "execution_count": 4,
   "metadata": {},
   "outputs": [
    {
     "data": {
      "text/html": [
       "'r-rlcard'"
      ],
      "text/latex": [
       "'r-rlcard'"
      ],
      "text/markdown": [
       "'r-rlcard'"
      ],
      "text/plain": [
       "[1] \"r-rlcard\""
      ]
     },
     "metadata": {},
     "output_type": "display_data"
    }
   ],
   "source": [
    "virtualenv_list()\n",
    "use_virtualenv('r-rlcard', required=TRUE)"
   ]
  },
  {
   "cell_type": "markdown",
   "metadata": {},
   "source": [
    "## >  Import packages\n",
    "Before import the packages, we install `Rlcard` and `Tensorflow` in R. Be carful to use `'pip = TURE'`, otherwise the default conda install may occur issues."
   ]
  },
  {
   "cell_type": "code",
   "execution_count": 5,
   "metadata": {},
   "outputs": [
    {
     "name": "stdout",
     "output_type": "stream",
     "text": [
      "Using virtual environment '/Users/miawan/.virtualenvs/r-rlcard' ...\n",
      "Using virtual environment '/Users/miawan/.virtualenvs/r-rlcard' ...\n"
     ]
    }
   ],
   "source": [
    "py_install('rlcard', pip=TRUE)\n",
    "py_install('rlcard[tensorflow]', pip=TRUE)"
   ]
  },
  {
   "cell_type": "markdown",
   "metadata": {},
   "source": [
    "We import the installed packages and check if the tensorflow version is agree with our needs."
   ]
  },
  {
   "cell_type": "code",
   "execution_count": 6,
   "metadata": {},
   "outputs": [],
   "source": [
    "rlcard <- import('rlcard')\n",
    "tf <- import('tensorflow')\n",
    "os <- import('os')"
   ]
  },
  {
   "cell_type": "code",
   "execution_count": 7,
   "metadata": {},
   "outputs": [
    {
     "data": {
      "text/html": [
       "'1.14.0'"
      ],
      "text/latex": [
       "'1.14.0'"
      ],
      "text/markdown": [
       "'1.14.0'"
      ],
      "text/plain": [
       "[1] \"1.14.0\""
      ]
     },
     "metadata": {},
     "output_type": "display_data"
    }
   ],
   "source": [
    "tf$\"__version__\""
   ]
  },
  {
   "cell_type": "markdown",
   "metadata": {},
   "source": [
    "## > Deep-Q Agent model startup\n",
    "\n",
    "Import the modules that are  warped up in our rlcard packages."
   ]
  },
  {
   "cell_type": "code",
   "execution_count": 8,
   "metadata": {},
   "outputs": [],
   "source": [
    "DQNAgent <- rlcard$agents$DQNAgent\n",
    "RandomAgent <- rlcard$agents$RandomAgent\n",
    "set_global_seed <- rlcard$utils$set_global_seed\n",
    "tournament <- rlcard$utils$tournament\n",
    "Logger <- rlcard$utils$Logger"
   ]
  },
  {
   "cell_type": "markdown",
   "metadata": {},
   "source": [
    "Make the environment for training."
   ]
  },
  {
   "cell_type": "code",
   "execution_count": 9,
   "metadata": {},
   "outputs": [],
   "source": [
    "env = rlcard$make('no-limit-holdem')\n",
    "eval_env = rlcard$make('no-limit-holdem')"
   ]
  },
  {
   "cell_type": "markdown",
   "metadata": {},
   "source": [
    "Set the iterations numbers and how frequently we evaluate the performance."
   ]
  },
  {
   "cell_type": "code",
   "execution_count": 10,
   "metadata": {},
   "outputs": [],
   "source": [
    "evaluate_every = 100L\n",
    "evaluate_num = 1000L\n",
    "episode_num = 300L"
   ]
  },
  {
   "cell_type": "markdown",
   "metadata": {},
   "source": [
    "The intial memory size."
   ]
  },
  {
   "cell_type": "code",
   "execution_count": 11,
   "metadata": {},
   "outputs": [],
   "source": [
    "memory_init_size = 1000L"
   ]
  },
  {
   "cell_type": "markdown",
   "metadata": {},
   "source": [
    "Train the agent every X steps."
   ]
  },
  {
   "cell_type": "code",
   "execution_count": 12,
   "metadata": {},
   "outputs": [],
   "source": [
    "train_every = 1"
   ]
  },
  {
   "cell_type": "markdown",
   "metadata": {},
   "source": [
    "The paths for saving the logs and learning curves. We save it on our current path."
   ]
  },
  {
   "cell_type": "code",
   "execution_count": 13,
   "metadata": {},
   "outputs": [],
   "source": [
    "log_dir = './log'"
   ]
  },
  {
   "cell_type": "markdown",
   "metadata": {},
   "source": [
    "Set a global seed."
   ]
  },
  {
   "cell_type": "code",
   "execution_count": 14,
   "metadata": {},
   "outputs": [],
   "source": [
    "set_global_seed(0L)\n",
    "sess <- tf$Session()"
   ]
  },
  {
   "cell_type": "markdown",
   "metadata": {},
   "source": [
    "Initialize a global step."
   ]
  },
  {
   "cell_type": "code",
   "execution_count": 15,
   "metadata": {},
   "outputs": [],
   "source": [
    "global_step = tf$Variable(0L, name='global_step', trainable=F)"
   ]
  },
  {
   "cell_type": "markdown",
   "metadata": {},
   "source": [
    "Now we set up the DQN agents."
   ]
  },
  {
   "cell_type": "code",
   "execution_count": 16,
   "metadata": {},
   "outputs": [],
   "source": [
    "agent = DQNAgent(\n",
    "  sess,\n",
    "  scope='dqn',\n",
    "  action_num=env$action_num,\n",
    "  replay_memory_init_size = memory_init_size,\n",
    "  train_every=train_every,\n",
    "  state_shape=env$state_shape,\n",
    "  mlp_layers=c(512, 512)\n",
    ")\n",
    "\n",
    "random_agent = RandomAgent(action_num=eval_env$action_num)\n",
    "env$set_agents(list(agent, random_agent))\n",
    "eval_env$set_agents(list(agent, random_agent))"
   ]
  },
  {
   "cell_type": "markdown",
   "metadata": {},
   "source": [
    "Then we initialize global variables and a Logger to plot the learning curve."
   ]
  },
  {
   "cell_type": "code",
   "execution_count": 17,
   "metadata": {},
   "outputs": [],
   "source": [
    "sess$run(tf$global_variables_initializer())\n",
    "logger = Logger(log_dir)"
   ]
  },
  {
   "cell_type": "markdown",
   "metadata": {},
   "source": [
    "## > Train the model"
   ]
  },
  {
   "cell_type": "markdown",
   "metadata": {},
   "source": [
    "To make it simple, we create a training `python script` and utilize it to train the agent. We save the script as `train.py`. The training python is shown as below.\n",
    "\n",
    "\n",
    "\n",
    "    def train(episode_num, env, eval_env, evaluate_every, evaluate_num, agent, logger, tournament):\n",
    "       for episode in range(episode_num):\n",
    "     \n",
    "         # Generate data from the environment\n",
    "         trajectories, _ = env.run(is_training = True)\n",
    "\n",
    "         # Feed transitions into agent memory, and train the agent\n",
    "         for ts in trajectories[0]:\n",
    "             agent.feed(ts)\n",
    "\n",
    "         # Evaluate the performance. Play with random agents.\n",
    "         if episode % evaluate_every == 0:\n",
    "             logger.log_performance(env.timestep, tournament(eval_env, evaluate_num)[0])"
   ]
  },
  {
   "cell_type": "markdown",
   "metadata": {},
   "source": [
    "Now we use the `train.py` to train the model"
   ]
  },
  {
   "cell_type": "code",
   "execution_count": 18,
   "metadata": {},
   "outputs": [],
   "source": [
    "reticulate::source_python(\"train.py\")\n",
    "train(episode_num, env, eval_env, evaluate_every, evaluate_num, agent, logger, tournament)"
   ]
  },
  {
   "cell_type": "markdown",
   "metadata": {},
   "source": [
    "Close files in the logger and Plot the learning curve in our file."
   ]
  },
  {
   "cell_type": "code",
   "execution_count": 19,
   "metadata": {},
   "outputs": [],
   "source": [
    "logger$close_files()\n",
    "logger$plot('DQN')"
   ]
  },
  {
   "cell_type": "markdown",
   "metadata": {},
   "source": [
    "Let's display our training performace and the plot."
   ]
  },
  {
   "cell_type": "code",
   "execution_count": 20,
   "metadata": {},
   "outputs": [
    {
     "data": {
      "text/html": [
       "<table>\n",
       "<caption>A data.frame: 3 × 2</caption>\n",
       "<thead>\n",
       "\t<tr><th scope=col>timestep</th><th scope=col>reward</th></tr>\n",
       "\t<tr><th scope=col>&lt;int&gt;</th><th scope=col>&lt;dbl&gt;</th></tr>\n",
       "</thead>\n",
       "<tbody>\n",
       "\t<tr><td>  2</td><td>-0.636</td></tr>\n",
       "\t<tr><td>294</td><td> 4.049</td></tr>\n",
       "\t<tr><td>602</td><td> 1.500</td></tr>\n",
       "</tbody>\n",
       "</table>\n"
      ],
      "text/latex": [
       "A data.frame: 3 × 2\n",
       "\\begin{tabular}{ll}\n",
       " timestep & reward\\\\\n",
       " <int> & <dbl>\\\\\n",
       "\\hline\n",
       "\t   2 & -0.636\\\\\n",
       "\t 294 &  4.049\\\\\n",
       "\t 602 &  1.500\\\\\n",
       "\\end{tabular}\n"
      ],
      "text/markdown": [
       "\n",
       "A data.frame: 3 × 2\n",
       "\n",
       "| timestep &lt;int&gt; | reward &lt;dbl&gt; |\n",
       "|---|---|\n",
       "|   2 | -0.636 |\n",
       "| 294 |  4.049 |\n",
       "| 602 |  1.500 |\n",
       "\n"
      ],
      "text/plain": [
       "  timestep reward\n",
       "1   2      -0.636\n",
       "2 294       4.049\n",
       "3 602       1.500"
      ]
     },
     "metadata": {},
     "output_type": "display_data"
    },
    {
     "data": {
      "image/png": "[encoded data removed]",
      "text/plain": [
       "Plot with title “”"
      ]
     },
     "metadata": {
      "image/png": {
       "height": 420,
       "width": 420
      }
     },
     "output_type": "display_data"
    }
   ],
   "source": [
    "txt <- read.csv(file='./log/performance.csv')\n",
    "txt\n",
    "library(imager)\n",
    "load.image(\"~/Desktop/log/fig.png\") %>% plot"
   ]
  },
  {
   "cell_type": "markdown",
   "metadata": {},
   "source": [
    "In the end we save model to `models/leduc_holdem_nfsp` ."
   ]
  },
  {
   "cell_type": "code",
   "execution_count": 21,
   "metadata": {},
   "outputs": [
    {
     "data": {
      "text/html": [
       "'models/leduc_holdem_nfsp/model'"
      ],
      "text/latex": [
       "'models/leduc\\_holdem\\_nfsp/model'"
      ],
      "text/markdown": [
       "'models/leduc_holdem_nfsp/model'"
      ],
      "text/plain": [
       "[1] \"models/leduc_holdem_nfsp/model\""
      ]
     },
     "metadata": {},
     "output_type": "display_data"
    }
   ],
   "source": [
    "save_dir = 'models/leduc_holdem_nfsp'\n",
    "if (!dir.exists(save_dir)){\n",
    "    os$makedirs(save_dir)}\n",
    "saver = tf$train$Saver()\n",
    "saver$save(sess, os$path$join(save_dir, 'model'))"
   ]
  },
  {
   "cell_type": "markdown",
   "metadata": {},
   "source": [
    "### Now you have your no-limit Texas Holdem model.\n",
    "## Good Job!\n",
    "\n",
    "___"
   ]
  }
 ],
 "metadata": {
  "kernelspec": {
   "display_name": "R",
   "language": "R",
   "name": "ir"
  },
  "language_info": {
   "codemirror_mode": "r",
   "file_extension": ".r",
   "mimetype": "text/x-r-source",
   "name": "R",
   "pygments_lexer": "r",
   "version": "4.0.0"
  }
 },
 "nbformat": 4,
 "nbformat_minor": 4
}
